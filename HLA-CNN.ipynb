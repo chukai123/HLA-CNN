{
 "cells": [
  {
   "cell_type": "code",
   "execution_count": 2,
   "metadata": {
    "collapsed": true
   },
   "outputs": [],
   "source": [
    "# 训练卷积神经网络\n",
    "import numpy\n",
    "import pandas\n",
    "\n",
    "# order中的key是有序的\n",
    "from collections import OrderedDict\n",
    "import re\n",
    "import os\n",
    "import io\n",
    "\n",
    "from sklearn.utils import shuffle\n",
    "\n",
    "# 评估指标\n",
    "from sklearn.metrics import roc_auc_score,roc_curve,auc\n",
    "from scipy import stats\n",
    "\n",
    "from keras.models import Sequential\n",
    "from keras.layers import Dense,Dropout,Activation,Flatten,Embedding\n",
    "from keras.layers import Conv1D\n",
    "from keras.utils import np_utils\n",
    "from keras import backend as K\n",
    "from keras.layers.advanced_activations import LeakyReLU\n",
    "from keras.optimizers import SGD,Adam,RMSprop\n",
    "from keras.callbacks import EarlyStopping\n",
    "from keras.models import load_model\n",
    "\n",
    "from gensim.models import Word2Vec\n",
    "\n",
    "aa_idx = OrderedDict([\n",
    "    ('A', 1),\n",
    "    ('C', 2),\n",
    "    ('E', 3),\n",
    "    ('D', 4),\n",
    "    ('G', 5),\n",
    "    ('F', 6),\n",
    "    ('I', 7),\n",
    "    ('H', 8),\n",
    "    ('K', 9),\n",
    "    ('M', 10),\n",
    "    ('L', 11),\n",
    "    ('N', 12),\n",
    "    ('Q', 13),\n",
    "    ('P', 14),\n",
    "    ('S', 15),\n",
    "    ('R', 16),\n",
    "    ('T', 17),\n",
    "    ('W', 18),\n",
    "    ('V', 19),\n",
    "    ('Y', 20)\n",
    "])"
   ]
  },
  {
   "cell_type": "code",
   "execution_count": 3,
   "outputs": [
    {
     "name": "stdout",
     "output_type": "stream",
     "text": [
      "         Date  IEDB_reference       Allele  Peptide_length Measurement_type  \\\n",
      "0  2015-07-31         1029125  HLA-B*27:05               9           binary   \n",
      "1  2015-07-31         1029125  HLA-B*27:05               9           binary   \n",
      "2  2015-07-31         1029125  HLA-B*27:05               9           binary   \n",
      "3  2015-07-31         1029125  HLA-B*27:05               9           binary   \n",
      "4  2015-07-31         1029125  HLA-B*27:05               9           binary   \n",
      "\n",
      "  Peptide_seq  Measurement_value  NetMHCpan       SMM      ANN      ARB  \\\n",
      "0   KRGILTLKL                1.0     154.07    257.38    143.0    45.70   \n",
      "1   KAYKSIVKY                0.0   14040.61  12121.88  11950.0  3691.96   \n",
      "2   GRLTKHTKR                1.0     633.90    187.31    124.0    31.54   \n",
      "3   KRYKSIVKR                1.0     102.17    116.30     39.0     7.95   \n",
      "4   KRYKSIVKL                1.0      55.15    112.35     32.0    21.93   \n",
      "\n",
      "   SMMPMBEC  IEDB_Consensus  NetMHCcons  PickPocket  \n",
      "0    229.92             1.0      149.03     1304.42  \n",
      "1  10953.93            15.0    13000.15     7446.48  \n",
      "2    226.24             0.6      280.65      401.08  \n",
      "3     95.40             0.4       63.39      161.63  \n",
      "4     98.08             0.4       42.71      508.87  \n",
      "B*27:05\n",
      "HLA-B*27:05\n",
      "9\n",
      "binary\n"
     ]
    }
   ],
   "source": [
    "# 开始训练\n",
    "\n",
    "# 1、先读入数据\n",
    "\"\"\"\n",
    "    return test_peptide,test_target,peptide_length,peptide\n",
    "\"\"\"\n",
    "# 测试集\n",
    "test_df = pandas.read_csv('train_test_data/test_data/B2705',delim_whitespace=True)\n",
    "print(test_df.head())\n",
    "\n",
    "# 通过正则化进行搜索\n",
    "peptide = re.search(r'[A-Z]\\*\\d{2}:\\d{2}',test_df['Allele'][0]).group()\n",
    "print(peptide)\n",
    "\n",
    "print(test_df['Allele'][0])\n",
    "\n",
    "peptide_length = len(test_df['Peptide_seq'][0])\n",
    "print(peptide_length)\n",
    "\n",
    "measurement_type = test_df['Measurement_type'][0]\n",
    "print(measurement_type)\n",
    "\n",
    "if measurement_type.lower() == 'binary':\n",
    "    test_df['Measurement_value'] = numpy.where(test_df.Measurement_value == 1.0,1,0)\n",
    "else:\n",
    "    test_df['Measurement_value'] = numpy.where(test_df.Measurement_value < 500.0,1,0)\n",
    "\n",
    "test_peptide = test_df.Peptide_seq\n",
    "test_target = test_df.Measurement_value\n",
    "\n",
    "test_target = test_target.values"
   ],
   "metadata": {
    "collapsed": false,
    "pycharm": {
     "name": "#%%\n"
    }
   }
  },
  {
   "cell_type": "code",
   "execution_count": 4,
   "outputs": [
    {
     "name": "stdout",
     "output_type": "stream",
     "text": [
      "      Peptide      HLA  BindingCategory\n",
      "0  AAAAAAAALY  A*29:02                1\n",
      "1   AAAAALQAK  A*03:01                1\n",
      "2    AAAAALWL  C*16:01                1\n",
      "3   AAAAARAAL  B*14:02               -1\n",
      "4   AAAAEEEEE  A*02:01               -1\n",
      "      sequence      HLA  target\n",
      "118  AADFPGIAR  B*27:05      -1\n",
      "206  AAFLDDNAF  B*27:05      -1\n",
      "260  AAGLPAIFV  B*27:05      -1\n",
      "315  AAILKQHKL  B*27:05      -1\n",
      "353  AAKKKGASL  B*27:05      -1\n",
      "      sequence      HLA  target\n",
      "118  AADFPGIAR  B*27:05      -1\n",
      "206  AAFLDDNAF  B*27:05      -1\n",
      "260  AAGLPAIFV  B*27:05      -1\n",
      "315  AAILKQHKL  B*27:05      -1\n",
      "353  AAKKKGASL  B*27:05      -1\n",
      "      sequence      HLA  target\n",
      "118  AADFPGIAR  B*27:05      -1\n",
      "206  AAFLDDNAF  B*27:05      -1\n",
      "260  AAGLPAIFV  B*27:05      -1\n",
      "315  AAILKQHKL  B*27:05      -1\n",
      "353  AAKKKGASL  B*27:05      -1\n",
      "----------------------\n",
      "118       AADFPGIAR\n",
      "206       AAFLDDNAF\n",
      "260       AAGLPAIFV\n",
      "315       AAILKQHKL\n",
      "353       AAKKKGASL\n",
      "            ...    \n",
      "140863    YVYPDNLPR\n",
      "141059    YYLEKANKI\n",
      "141106    YYPEDPVKL\n",
      "141131    YYQLCQHLK\n",
      "141219    YYYNFSEDL\n",
      "Name: sequence, Length: 2436, dtype: object\n",
      "----------------------\n",
      "[0 0 0 ... 0 1 0]\n"
     ]
    }
   ],
   "source": [
    "# 训练集\n",
    "df_train = pandas.read_csv('train_test_data/train_data/proteins.txt',delim_whitespace=True,header=0)\n",
    "print(df_train.head())\n",
    "df_train.columns = ['sequence','HLA','target']\n",
    "\n",
    "# 创建训练矩阵\n",
    "df_train = df_train[df_train.HLA == peptide]\n",
    "print(df_train.head())\n",
    "\n",
    "df_train = df_train[df_train['sequence'].map(len) == peptide_length]\n",
    "print(df_train.head())\n",
    "\n",
    "# 删除未知变量\n",
    "df_train = df_train[df_train.sequence.str.contains('X') == False]\n",
    "df_train = df_train[df_train.sequence.str.contains('B') == False]\n",
    "\n",
    "print(df_train.head())\n",
    "\n",
    "df_train['target'] = numpy.where(df_train.target == 1,1,0)\n",
    "seqMatrix = df_train.sequence\n",
    "targetMatrix = df_train.target\n",
    "targetMatrix = targetMatrix.values\n",
    "\n",
    "print('----------------------')\n",
    "print(seqMatrix)\n",
    "print('----------------------')\n",
    "print(targetMatrix)"
   ],
   "metadata": {
    "collapsed": false,
    "pycharm": {
     "name": "#%%\n"
    }
   }
  },
  {
   "cell_type": "code",
   "execution_count": 4,
   "outputs": [],
   "source": [],
   "metadata": {
    "collapsed": false,
    "pycharm": {
     "name": "#%%\n"
    }
   }
  }
 ],
 "metadata": {
  "kernelspec": {
   "display_name": "Python 3",
   "language": "python",
   "name": "python3"
  },
  "language_info": {
   "codemirror_mode": {
    "name": "ipython",
    "version": 2
   },
   "file_extension": ".py",
   "mimetype": "text/x-python",
   "name": "python",
   "nbconvert_exporter": "python",
   "pygments_lexer": "ipython2",
   "version": "2.7.6"
  }
 },
 "nbformat": 4,
 "nbformat_minor": 0
}